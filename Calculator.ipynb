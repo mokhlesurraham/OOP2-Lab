{
  "nbformat": 4,
  "nbformat_minor": 0,
  "metadata": {
    "colab": {
      "name": "Untitled0.ipynb",
      "provenance": [],
      "authorship_tag": "ABX9TyNUcVQQHv31GTC2e0XQFJbF",
      "include_colab_link": true
    },
    "kernelspec": {
      "name": "python3",
      "display_name": "Python 3"
    }
  },
  "cells": [
    {
      "cell_type": "markdown",
      "metadata": {
        "id": "view-in-github",
        "colab_type": "text"
      },
      "source": [
        "<a href=\"https://colab.research.google.com/github/mokhlesurraham/OOP2-Lab/blob/master/Calculator.ipynb\" target=\"_parent\"><img src=\"https://colab.research.google.com/assets/colab-badge.svg\" alt=\"Open In Colab\"/></a>"
      ]
    },
    {
      "cell_type": "code",
      "metadata": {
        "colab": {
          "base_uri": "https://localhost:8080/"
        },
        "id": "t3h9TYIB87Ab",
        "outputId": "5c9f2bfe-dd5e-42e5-e750-0a728d37d11a"
      },
      "source": [
        "class Calculator:\n",
        "    def add(self,num1,num2):\n",
        "        return num1+num2\n",
        "    def sub(self,num1,num2):\n",
        "        return num1-num2\n",
        "    def mul(self,num1,num2):\n",
        "        return num1*num2\n",
        "    def div(self,num1,num2):\n",
        "        try:\n",
        "            num1/num2\n",
        "        except:\n",
        "            print(\"Division not possible\")\n",
        "obj = Calculator()\n",
        "num1 = float(input(\"Enter First Number: \"))\n",
        "num2 = float(input(\"Enter Second Number: \"))\n",
        "\n",
        "print(\"( + , - , * , / )\")\n",
        "opt = input(\"Choose a Operation: \")\n",
        "if opt=='+':\n",
        "    result = obj.add(num1,num2)\n",
        "elif opt=='-':\n",
        "    result = obj.sub(num1,num2)\n",
        "elif opt=='*':\n",
        "    result = obj.mul(num1,num2)\n",
        "elif opt=='/':\n",
        "    result = obj.div(num1,num2)\n",
        "\n",
        "print(\"result = \",result)"
      ],
      "execution_count": 1,
      "outputs": [
        {
          "output_type": "stream",
          "text": [
            "Enter First Number: 2\n",
            "Enter Second Number: 4\n",
            "( + , - , * , / )\n",
            "Choose a Operation: +\n",
            "result =  6.0\n"
          ],
          "name": "stdout"
        }
      ]
    }
  ]
}