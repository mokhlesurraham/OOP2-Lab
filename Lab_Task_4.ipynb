{
  "nbformat": 4,
  "nbformat_minor": 0,
  "metadata": {
    "colab": {
      "name": "Lab Task 4.ipynb",
      "provenance": [],
      "collapsed_sections": [],
      "include_colab_link": true
    },
    "kernelspec": {
      "name": "python3",
      "display_name": "Python 3"
    }
  },
  "cells": [
    {
      "cell_type": "markdown",
      "metadata": {
        "id": "view-in-github",
        "colab_type": "text"
      },
      "source": [
        "<a href=\"https://colab.research.google.com/github/mokhlesurraham/OOP2-Lab/blob/master/Lab_Task_4.ipynb\" target=\"_parent\"><img src=\"https://colab.research.google.com/assets/colab-badge.svg\" alt=\"Open In Colab\"/></a>"
      ]
    },
    {
      "cell_type": "code",
      "metadata": {
        "id": "dv5fgiINPQhy",
        "colab": {
          "base_uri": "https://localhost:8080/"
        },
        "outputId": "b60697d2-5f84-45e7-dad6-e565f5bea477"
      },
      "source": [
        "#creating list\n",
        "\n",
        "lst0=[12,53,21,772,22.213,453.273,\"Mokhlesur\",[20,32,33]]\n",
        "print(lst0)\n",
        "lst1=[]\n",
        "\n"
      ],
      "execution_count": 2,
      "outputs": [
        {
          "output_type": "stream",
          "text": [
            "[12, 53, 21, 772, 22.213, 453.273, 'Mokhlesur', [20, 32, 33]]\n"
          ],
          "name": "stdout"
        }
      ]
    },
    {
      "cell_type": "code",
      "metadata": {
        "id": "OzhLaNmjPibF",
        "colab": {
          "base_uri": "https://localhost:8080/"
        },
        "outputId": "61d2fff5-5c45-49d4-c9bc-554ee5cadb55"
      },
      "source": [
        "#iterating list\n",
        "\n",
        "lst0=[12,53,21,772,22.213,\"rahman\",[20,32,33]]\n",
        "for i in lst0:\n",
        "    print(i,end=' ')\n",
        "print('')"
      ],
      "execution_count": 3,
      "outputs": [
        {
          "output_type": "stream",
          "text": [
            "12 53 21 772 22.213 rahman [20, 32, 33] \n"
          ],
          "name": "stdout"
        }
      ]
    },
    {
      "cell_type": "code",
      "metadata": {
        "id": "KNxT03XVQl1s",
        "colab": {
          "base_uri": "https://localhost:8080/"
        },
        "outputId": "0ee5be63-e40a-4911-b9f1-81a37ed1a12d"
      },
      "source": [
        "#iterating list\n",
        "\n",
        "lst0=[12, 53, 21, 772, 22.213, 453.273,\"mokhlesur\",[40, 32, 33]]\n",
        "print(lst0[2])\n",
        "print(lst0[6])\n",
        "print(lst0[-2])\n",
        "print(lst0[-1])"
      ],
      "execution_count": 1,
      "outputs": [
        {
          "output_type": "stream",
          "text": [
            "21\n",
            "mokhlesur\n",
            "mokhlesur\n",
            "[40, 32, 33]\n"
          ],
          "name": "stdout"
        }
      ]
    },
    {
      "cell_type": "code",
      "metadata": {
        "id": "Efc_Q8FCU1RZ",
        "colab": {
          "base_uri": "https://localhost:8080/"
        },
        "outputId": "e578fa48-d998-4c52-8290-d437a4542095"
      },
      "source": [
        "#lsit slicing\n",
        "\n",
        "lst0=[12, 53, 21, 772, 22.213, 453.273,\"jiku\",[32,62,13]]\n",
        "\n",
        "print(lst0[2:7])\n",
        "print(lst0[2:])\n",
        "print(lst0[:5])\n",
        "print(lst0[:])"
      ],
      "execution_count": 4,
      "outputs": [
        {
          "output_type": "stream",
          "text": [
            "[21, 772, 22.213, 453.273, 'jiku']\n",
            "[21, 772, 22.213, 453.273, 'jiku', [32, 62, 13]]\n",
            "[12, 53, 21, 772, 22.213]\n",
            "[12, 53, 21, 772, 22.213, 453.273, 'jiku', [32, 62, 13]]\n"
          ],
          "name": "stdout"
        }
      ]
    },
    {
      "cell_type": "code",
      "metadata": {
        "id": "jZEi7IZ0YRtn",
        "colab": {
          "base_uri": "https://localhost:8080/"
        },
        "outputId": "c41104a1-1b53-4a02-e9f8-8b2cc0ab34cc"
      },
      "source": [
        "#List operations\n",
        "\n",
        "lst0=[21, 772, 22.213, 453.273,\"Crimson\",[4, 32, 33]]\n",
        "\n",
        "print(len(lst0))                #len( ) gives the length of the list\n",
        "\n",
        "lst0.append([12,2,12,2])        #append( ) inserts an element to the end of the list\n",
        "print(lst0)\n",
        "\n",
        "lst0.insert(2,\"pandas\")         #insert( ) insertes an element on a given index\n",
        "print(lst0)\n",
        "\n",
        "print(lst0.index(\"Crimson\"))     #index( ) returns index of first occurence of an element\n",
        "\n",
        "print(lst0.count('Crimson'))     #count( ) reuturns the number of occurence of an element\n",
        "\n",
        "print(lst0.reverse())           #reverse( ) makes a reverse list\n",
        "\n",
        "lst1=lst0.copy()                #copy( ) makes a copy of list\n",
        "print(lst1)\n",
        "\n",
        "lst0.clear()                    #clear( ) makes the list empty"
      ],
      "execution_count": 5,
      "outputs": [
        {
          "output_type": "stream",
          "text": [
            "6\n",
            "[21, 772, 22.213, 453.273, 'Crimson', [4, 32, 33], [12, 2, 12, 2]]\n",
            "[21, 772, 'pandas', 22.213, 453.273, 'Crimson', [4, 32, 33], [12, 2, 12, 2]]\n",
            "5\n",
            "1\n",
            "None\n",
            "[[12, 2, 12, 2], [4, 32, 33], 'Crimson', 453.273, 22.213, 'pandas', 772, 21]\n"
          ],
          "name": "stdout"
        }
      ]
    },
    {
      "cell_type": "code",
      "metadata": {
        "id": "VcznBtQPWFD1",
        "colab": {
          "base_uri": "https://localhost:8080/"
        },
        "outputId": "25bee891-d950-40d8-ce0f-b1d00d0d01d9"
      },
      "source": [
        "#list sorting\n",
        "\n",
        "lst2=[33,16,12,24,480,50,100,200,400,500,1000,2000]\n",
        "\n",
        "lst3=sorted(lst2)\n",
        "print(lst3)\n",
        "print(lst2)\n",
        "lst2.sort()\n",
        "print(lst2)"
      ],
      "execution_count": 6,
      "outputs": [
        {
          "output_type": "stream",
          "text": [
            "[12, 16, 24, 33, 50, 100, 200, 400, 480, 500, 1000, 2000]\n",
            "[33, 16, 12, 24, 480, 50, 100, 200, 400, 500, 1000, 2000]\n",
            "[12, 16, 24, 33, 50, 100, 200, 400, 480, 500, 1000, 2000]\n"
          ],
          "name": "stdout"
        }
      ]
    },
    {
      "cell_type": "code",
      "metadata": {
        "id": "CsnsqMPsWn6m",
        "colab": {
          "base_uri": "https://localhost:8080/"
        },
        "outputId": "c593c469-6873-4700-b1bc-c11c61041914"
      },
      "source": [
        "#creating tuple\n",
        "\n",
        "tp0=(42, 53, 21, 772, 22.213, 453.273,\"Warlock\",[2,32,3])\n",
        "print(tp0)\n",
        "tp1=()\n",
        "\n"
      ],
      "execution_count": 7,
      "outputs": [
        {
          "output_type": "stream",
          "text": [
            "(42, 53, 21, 772, 22.213, 453.273, 'Warlock', [2, 32, 3])\n"
          ],
          "name": "stdout"
        }
      ]
    },
    {
      "cell_type": "code",
      "metadata": {
        "id": "zqLQKHBrXNxY",
        "colab": {
          "base_uri": "https://localhost:8080/"
        },
        "outputId": "bac9631d-ba48-40e7-870d-e500a8dfa00a"
      },
      "source": [
        "#iterating tuple\n",
        "\n",
        "tp0=(12, 53, 21, 772, 22.213, 453.273,\"Dracula\",[72,34,166])\n",
        "for i in tp0:\n",
        "    print(i,end=' ')\n",
        "print('')"
      ],
      "execution_count": 8,
      "outputs": [
        {
          "output_type": "stream",
          "text": [
            "12 53 21 772 22.213 453.273 Dracula [72, 34, 166] \n"
          ],
          "name": "stdout"
        }
      ]
    },
    {
      "cell_type": "code",
      "metadata": {
        "id": "KZUEXf9KXyFq",
        "colab": {
          "base_uri": "https://localhost:8080/"
        },
        "outputId": "85cb2a6e-6043-43cf-e6cf-9f6e650985d1"
      },
      "source": [
        "#iterating tuple\n",
        "\n",
        "tp0=(12, 53, 21, 772, 22.213, 453.273,\"python\",[72,34,166])\n",
        "print(tp0[2])\n",
        "print(tp0[6])\n",
        "print(tp0[-2])\n",
        "print(tp0[-5])"
      ],
      "execution_count": 9,
      "outputs": [
        {
          "output_type": "stream",
          "text": [
            "21\n",
            "python\n",
            "python\n",
            "772\n"
          ],
          "name": "stdout"
        }
      ]
    },
    {
      "cell_type": "code",
      "metadata": {
        "id": "J0R9_6tYYU6j",
        "colab": {
          "base_uri": "https://localhost:8080/"
        },
        "outputId": "b63bc6c0-3d62-4dd1-e61b-19e83d6ba7d6"
      },
      "source": [
        "#inserting into tuple\n",
        "\n",
        "tp0=(12, 53, 21, 772, 22.213, 453.273,\"Alucard\",[7,4,16])\n",
        "tp0+=(\"pandas\",232,3,232,3)\n",
        "print(tp0)"
      ],
      "execution_count": 10,
      "outputs": [
        {
          "output_type": "stream",
          "text": [
            "(12, 53, 21, 772, 22.213, 453.273, 'Alucard', [7, 4, 16], 'pandas', 232, 3, 232, 3)\n"
          ],
          "name": "stdout"
        }
      ]
    },
    {
      "cell_type": "code",
      "metadata": {
        "id": "ZWp59vSEZfJJ",
        "colab": {
          "base_uri": "https://localhost:8080/"
        },
        "outputId": "bbdd3ecf-f4d5-43ec-ee9a-057748f2bac0"
      },
      "source": [
        "#unpacking sequences\n",
        "\n",
        "lst=[12, 53, 21, 772]\n",
        "a,b,c,d=lst\n",
        "print(a)\n",
        "print(b)\n",
        "print(c)\n",
        "print(d)"
      ],
      "execution_count": 11,
      "outputs": [
        {
          "output_type": "stream",
          "text": [
            "12\n",
            "53\n",
            "21\n",
            "772\n"
          ],
          "name": "stdout"
        }
      ]
    },
    {
      "cell_type": "code",
      "metadata": {
        "id": "o-2Xal8TZ1mo",
        "colab": {
          "base_uri": "https://localhost:8080/"
        },
        "outputId": "dd9bdfa3-20e8-418a-d70f-1fc7e7969499"
      },
      "source": [
        "#unpacking sequences\n",
        "\n",
        "tp=(21, 772, 22.213, 453.273)\n",
        "a,b,c,d=tp\n",
        "print(a)\n",
        "print(b)\n",
        "print(c)\n",
        "print(d)"
      ],
      "execution_count": 12,
      "outputs": [
        {
          "output_type": "stream",
          "text": [
            "21\n",
            "772\n",
            "22.213\n",
            "453.273\n"
          ],
          "name": "stdout"
        }
      ]
    }
  ]
}